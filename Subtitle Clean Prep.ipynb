{
 "cells": [
  {
   "cell_type": "code",
   "execution_count": null,
   "metadata": {
    "collapsed": true
   },
   "outputs": [],
   "source": [
    "Text = []\n",
    "for line in open('sub5.srt'):\n",
    "    if not line[0].isdigit():\n",
    "        if line != \"\\n\":\n",
    "            cleanline = line.strip('\\n').replace(\"</i>\",\"\").replace(\"<i>\",\"\").replace(\"\\t\",\" \")\n",
    "            Text.append(cleanline)\n",
    "            \n",
    "for x in range (0,10):\n",
    "    newfilelengthcount = len(Text)\n",
    "    lentext = len(Text)\n",
    "    i = 0\n",
    "    while i < newfilelengthcount-1:\n",
    "        if Text[i][-3:-1] == \"..\":\n",
    "            if i +1 != counter:\n",
    "                Text[i] = Text[i] + \" \" + Text[i+1]\n",
    "                del Text[i+1]\n",
    "            i = i + 1\n",
    "            newfilelengthcount = newfilelengthcount-1\n",
    "        elif Text[i][-1] not in [\".\",\"?\",\"!\",\"-\"]:\n",
    "            if i +1 != counter:            \n",
    "                Text[i] = Text[i] + \" \" + Text[i+1]\n",
    "                del Text[i+1]\n",
    "            i = i + 1\n",
    "            newfilelengthcount = newfilelengthcount-1\n",
    "        else:\n",
    "            i = i + 1\n",
    "\n",
    "exclude = set(\"/ï»¿1#0<>=â™ªÃ©\")\n",
    "for i in range (0,len(Text)):\n",
    "    Text[i] = Text[i].replace(\"- \",\" \").replace(\"--\",\" \").replace(\"...\",\"\")\n",
    "    Text[i] = ''.join(ch for ch in Text[i] if ch not in exclude)\n",
    "for i in range (0,len(Text)):\n",
    "    Text[i].replace(\"\\\\\",\"\")"
   ]
  }
 ],
 "metadata": {
  "kernelspec": {
   "display_name": "Python 3",
   "language": "python",
   "name": "python3"
  },
  "language_info": {
   "codemirror_mode": {
    "name": "ipython",
    "version": 3
   },
   "file_extension": ".py",
   "mimetype": "text/x-python",
   "name": "python",
   "nbconvert_exporter": "python",
   "pygments_lexer": "ipython3",
   "version": "3.5.1"
  }
 },
 "nbformat": 4,
 "nbformat_minor": 0
}
